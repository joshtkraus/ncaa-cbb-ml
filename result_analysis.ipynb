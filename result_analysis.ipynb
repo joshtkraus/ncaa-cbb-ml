{
 "cells": [
  {
   "cell_type": "markdown",
   "metadata": {},
   "source": [
    "# Results Analysis"
   ]
  },
  {
   "cell_type": "markdown",
   "metadata": {},
   "source": [
    "## Set Up"
   ]
  },
  {
   "cell_type": "code",
   "execution_count": 119,
   "metadata": {},
   "outputs": [],
   "source": [
    "# Libraries\n",
    "import numpy as np\n",
    "import pandas as pd"
   ]
  },
  {
   "cell_type": "code",
   "execution_count": 120,
   "metadata": {},
   "outputs": [],
   "source": [
    "# Load Data\n",
    "data = pd.read_csv('data/processed/data.csv', index_col=False)"
   ]
  },
  {
   "cell_type": "code",
   "execution_count": 121,
   "metadata": {},
   "outputs": [],
   "source": [
    "# Load Predictions\n",
    "# List of years to include, excluding 2020\n",
    "years = list(range(2013, 2025))\n",
    "years.remove(2020)\n",
    "# Initialize\n",
    "predictions = pd.DataFrame()\n",
    "# Iterate years\n",
    "for year in years:\n",
    "    # Read Data\n",
    "    probs = pd.read_csv(f'results/probabilities/{year}.csv', index_col=False)\n",
    "    probs['Year'] = year\n",
    "    # Append\n",
    "    predictions = pd.concat([predictions, probs], ignore_index=True)"
   ]
  },
  {
   "cell_type": "code",
   "execution_count": 122,
   "metadata": {},
   "outputs": [],
   "source": [
    "# Convert Pred to Points\n",
    "predictions['R32'] = predictions['R32']*10\n",
    "predictions['S16'] = predictions['R32'] + predictions['S16']*20\n",
    "predictions['E8'] = predictions['S16'] + predictions['E8']*40\n",
    "predictions['F4'] = predictions['E8'] + predictions['F4']*80\n",
    "predictions['NCG'] = predictions['F4'] + predictions['NCG']*160\n",
    "predictions['Winner'] = predictions['NCG'] + predictions['Winner']*320"
   ]
  },
  {
   "cell_type": "code",
   "execution_count": 123,
   "metadata": {},
   "outputs": [],
   "source": [
    "# Merge\n",
    "df = data.merge(predictions,\n",
    "                on=['Year','Team','Seed','Region'])"
   ]
  },
  {
   "cell_type": "code",
   "execution_count": 124,
   "metadata": {},
   "outputs": [],
   "source": [
    "def confidence_interval(avg, sd, n, ci):\n",
    "    return str(round(avg-(sd/np.sqrt(n))*ci,2)), str(round(avg+(sd/np.sqrt(n))*ci,2))"
   ]
  },
  {
   "cell_type": "markdown",
   "metadata": {},
   "source": [
    "## Winner"
   ]
  },
  {
   "cell_type": "code",
   "execution_count": 125,
   "metadata": {},
   "outputs": [
    {
     "name": "stdout",
     "output_type": "stream",
     "text": [
      "Winner C.I.: 146.53-222.56\n"
     ]
    }
   ],
   "source": [
    "# Statistics\n",
    "n = len(df.loc[df['Round']==7,'Winner'])\n",
    "sd = df.loc[df['Round']==7,'Winner'].std()\n",
    "avg = df.loc[df['Round']==7,'Winner'].mean()\n",
    "ci = 1.96\n",
    "\n",
    "# Confidence Interval\n",
    "lower, upper = confidence_interval(avg, sd, n, ci)\n",
    "print('Winner C.I.: '+lower+'-'+upper)"
   ]
  },
  {
   "cell_type": "markdown",
   "metadata": {},
   "source": [
    "## Championship"
   ]
  },
  {
   "cell_type": "code",
   "execution_count": 126,
   "metadata": {},
   "outputs": [
    {
     "name": "stdout",
     "output_type": "stream",
     "text": [
      "NCG C.I.: 75.37-107.67\n"
     ]
    }
   ],
   "source": [
    "# Statistics\n",
    "n = len(df.loc[df['Round']>=6,'NCG'])\n",
    "sd = df.loc[df['Round']>=6,'NCG'].std()\n",
    "avg = df.loc[df['Round']>=6,'NCG'].mean()\n",
    "ci = 1.96\n",
    "\n",
    "# Confidence Interval\n",
    "lower, upper = confidence_interval(avg, sd, n, ci)\n",
    "print('NCG C.I.: '+lower+'-'+upper)"
   ]
  },
  {
   "cell_type": "code",
   "execution_count": 128,
   "metadata": {},
   "outputs": [
    {
     "name": "stdout",
     "output_type": "stream",
     "text": [
      "Non 1 Seed NCG C.I.: 40.37-66.72\n"
     ]
    }
   ],
   "source": [
    "# Statistics\n",
    "n = len(df.loc[(df['Round']>=6)&(df['Seed']!=1),'NCG'])\n",
    "sd = df.loc[(df['Round']>=6)&(df['Seed']!=1),'NCG'].std()\n",
    "avg = df.loc[(df['Round']>=6)&(df['Seed']!=1),'NCG'].mean()\n",
    "ci = 1.96\n",
    "\n",
    "# Confidence Interval\n",
    "lower, upper = confidence_interval(avg, sd, n, ci)\n",
    "print('Non 1 Seed NCG C.I.: '+lower+'-'+upper)"
   ]
  },
  {
   "cell_type": "markdown",
   "metadata": {},
   "source": [
    "## Final 4"
   ]
  },
  {
   "cell_type": "code",
   "execution_count": 129,
   "metadata": {},
   "outputs": [
    {
     "name": "stdout",
     "output_type": "stream",
     "text": [
      "F4 C.I.: 43.05-55.35\n"
     ]
    }
   ],
   "source": [
    "# Statistics\n",
    "n = len(df.loc[df['Round']>=5,'F4'])\n",
    "sd = df.loc[df['Round']>=5,'F4'].std()\n",
    "avg = df.loc[df['Round']>=5,'F4'].mean()\n",
    "ci = 1.96\n",
    "\n",
    "# Confidence Interval\n",
    "lower, upper = confidence_interval(avg, sd, n, ci)\n",
    "print('F4 C.I.: '+lower+'-'+upper)"
   ]
  },
  {
   "cell_type": "code",
   "execution_count": 131,
   "metadata": {},
   "outputs": [
    {
     "name": "stdout",
     "output_type": "stream",
     "text": [
      "Non 1 Seed F4 C.I.: 32.37-44.59\n"
     ]
    }
   ],
   "source": [
    "# Statistics\n",
    "n = len(df.loc[(df['Round']>=5)&(df['Seed']!=1),'F4'])\n",
    "sd = df.loc[(df['Round']>=5)&(df['Seed']!=1),'F4'].std()\n",
    "avg = df.loc[(df['Round']>=5)&(df['Seed']!=1),'F4'].mean()\n",
    "ci = 1.96\n",
    "\n",
    "# Confidence Interval\n",
    "lower, upper = confidence_interval(avg, sd, n, ci)\n",
    "print('Non 1 Seed F4 C.I.: '+lower+'-'+upper)"
   ]
  },
  {
   "cell_type": "markdown",
   "metadata": {},
   "source": [
    "## Elite 8"
   ]
  },
  {
   "cell_type": "code",
   "execution_count": 132,
   "metadata": {},
   "outputs": [
    {
     "name": "stdout",
     "output_type": "stream",
     "text": [
      "E8 C.I.: 25.91-30.09\n"
     ]
    }
   ],
   "source": [
    "# Statistics\n",
    "n = len(df.loc[df['Round']>=4,'E8'])\n",
    "sd = df.loc[df['Round']>=4,'E8'].std()\n",
    "avg = df.loc[df['Round']>=4,'E8'].mean()\n",
    "ci = 1.96\n",
    "\n",
    "# Confidence Interval\n",
    "lower, upper = confidence_interval(avg, sd, n, ci)\n",
    "print('E8 C.I.: '+lower+'-'+upper)"
   ]
  },
  {
   "cell_type": "code",
   "execution_count": 134,
   "metadata": {},
   "outputs": [
    {
     "name": "stdout",
     "output_type": "stream",
     "text": [
      "Non 1-2 Seed E8 C.I.: 18.97-24.12\n"
     ]
    }
   ],
   "source": [
    "# Statistics\n",
    "n = len(df.loc[(df['Round']>=4)&(df['Seed']>2),'E8'])\n",
    "sd = df.loc[(df['Round']>=4)&(df['Seed']>2),'E8'].std()\n",
    "avg = df.loc[(df['Round']>=4)&(df['Seed']>2),'E8'].mean()\n",
    "ci = 1.96\n",
    "\n",
    "# Confidence Interval\n",
    "lower, upper = confidence_interval(avg, sd, n, ci)\n",
    "print('Non 1-2 Seed E8 C.I.: '+lower+'-'+upper)"
   ]
  },
  {
   "cell_type": "markdown",
   "metadata": {},
   "source": [
    "## Sweet 16"
   ]
  },
  {
   "cell_type": "code",
   "execution_count": 135,
   "metadata": {},
   "outputs": [
    {
     "name": "stdout",
     "output_type": "stream",
     "text": [
      "S16 C.I.: 15.48-17.07\n"
     ]
    }
   ],
   "source": [
    "# Statistics\n",
    "n = len(df.loc[df['Round']>=3,'S16'])\n",
    "sd = df.loc[df['Round']>=3,'S16'].std()\n",
    "avg = df.loc[df['Round']>=3,'S16'].mean()\n",
    "ci = 1.96\n",
    "\n",
    "# Confidence Interval\n",
    "lower, upper = confidence_interval(avg, sd, n, ci)\n",
    "print('S16 C.I.: '+lower+'-'+upper)"
   ]
  },
  {
   "cell_type": "code",
   "execution_count": 137,
   "metadata": {},
   "outputs": [
    {
     "name": "stdout",
     "output_type": "stream",
     "text": [
      "Non 1-4 Seed S16 C.I.: 9.96-12.25\n"
     ]
    }
   ],
   "source": [
    "# Statistics\n",
    "n = len(df.loc[(df['Round']>=3)&(df['Seed']>4),'S16'])\n",
    "sd = df.loc[(df['Round']>=3)&(df['Seed']>4),'S16'].std()\n",
    "avg = df.loc[(df['Round']>=3)&(df['Seed']>4),'S16'].mean()\n",
    "ci = 1.96\n",
    "\n",
    "# Confidence Interval\n",
    "lower, upper = confidence_interval(avg, sd, n, ci)\n",
    "print('Non 1-4 Seed S16 C.I.: '+lower+'-'+upper)"
   ]
  },
  {
   "cell_type": "markdown",
   "metadata": {},
   "source": [
    "## Round 32"
   ]
  },
  {
   "cell_type": "markdown",
   "metadata": {},
   "source": [
    "### 1 v 16"
   ]
  },
  {
   "cell_type": "code",
   "execution_count": 138,
   "metadata": {},
   "outputs": [
    {
     "name": "stdout",
     "output_type": "stream",
     "text": [
      "1 Seed Winner R32 C.I.: 9.37-9.6\n"
     ]
    }
   ],
   "source": [
    "# Statistics\n",
    "n = len(df.loc[(df['Round']>=2)&(df['Seed']==1),'R32'])\n",
    "sd = df.loc[(df['Round']>=2)&(df['Seed']==1),'R32'].std()\n",
    "avg = df.loc[(df['Round']>=2)&(df['Seed']==1),'R32'].mean()\n",
    "ci = 1.96\n",
    "\n",
    "# Confidence Interval\n",
    "lower, upper = confidence_interval(avg, sd, n, ci)\n",
    "print('1 Seed Winner R32 C.I.: '+lower+'-'+upper)"
   ]
  },
  {
   "cell_type": "code",
   "execution_count": 139,
   "metadata": {},
   "outputs": [
    {
     "name": "stdout",
     "output_type": "stream",
     "text": [
      "1 Seed Loser R32 C.I.: 8.44-9.4\n"
     ]
    }
   ],
   "source": [
    "# Statistics\n",
    "n = len(df.loc[(df['Round']<2)&(df['Seed']==1),'R32'])\n",
    "sd = df.loc[(df['Round']<2)&(df['Seed']==1),'R32'].std()\n",
    "avg = df.loc[(df['Round']<2)&(df['Seed']==1),'R32'].mean()\n",
    "ci = 1.96\n",
    "\n",
    "# Confidence Interval\n",
    "lower, upper = confidence_interval(avg, sd, n, ci)\n",
    "print('1 Seed Loser R32 C.I.: '+lower+'-'+upper)"
   ]
  },
  {
   "cell_type": "code",
   "execution_count": 140,
   "metadata": {},
   "outputs": [
    {
     "name": "stdout",
     "output_type": "stream",
     "text": [
      "16 Seed Winner R32 C.I.: 0.6-1.56\n"
     ]
    }
   ],
   "source": [
    "# Statistics\n",
    "n = len(df.loc[(df['Round']>=2)&(df['Seed']==16),'R32'])\n",
    "sd = df.loc[(df['Round']>=2)&(df['Seed']==16),'R32'].std()\n",
    "avg = df.loc[(df['Round']>=2)&(df['Seed']==16),'R32'].mean()\n",
    "ci = 1.96\n",
    "\n",
    "# Confidence Interval\n",
    "lower, upper = confidence_interval(avg, sd, n, ci)\n",
    "print('16 Seed Winner R32 C.I.: '+lower+'-'+upper)"
   ]
  },
  {
   "cell_type": "code",
   "execution_count": 141,
   "metadata": {},
   "outputs": [
    {
     "name": "stdout",
     "output_type": "stream",
     "text": [
      "16 Seed Loser R32 C.I.: 0.4-0.63\n"
     ]
    }
   ],
   "source": [
    "# Statistics\n",
    "n = len(df.loc[(df['Round']<2)&(df['Seed']==16),'R32'])\n",
    "sd = df.loc[(df['Round']<2)&(df['Seed']==16),'R32'].std()\n",
    "avg = df.loc[(df['Round']<2)&(df['Seed']==16),'R32'].mean()\n",
    "ci = 1.96\n",
    "\n",
    "# Confidence Interval\n",
    "lower, upper = confidence_interval(avg, sd, n, ci)\n",
    "print('16 Seed Loser R32 C.I.: '+lower+'-'+upper)"
   ]
  },
  {
   "cell_type": "markdown",
   "metadata": {},
   "source": [
    "### 3 v 14"
   ]
  },
  {
   "cell_type": "code",
   "execution_count": 146,
   "metadata": {},
   "outputs": [
    {
     "name": "stdout",
     "output_type": "stream",
     "text": [
      "3 Seed Winner R32 C.I.: 8.76-9.27\n"
     ]
    }
   ],
   "source": [
    "# Statistics\n",
    "n = len(df.loc[(df['Round']>=2)&(df['Seed']==3),'R32'])\n",
    "sd = df.loc[(df['Round']>=2)&(df['Seed']==3),'R32'].std()\n",
    "avg = df.loc[(df['Round']>=2)&(df['Seed']==3),'R32'].mean()\n",
    "ci = 1.96\n",
    "\n",
    "# Confidence Interval\n",
    "lower, upper = confidence_interval(avg, sd, n, ci)\n",
    "print('3 Seed Winner R32 C.I.: '+lower+'-'+upper)"
   ]
  },
  {
   "cell_type": "code",
   "execution_count": 147,
   "metadata": {},
   "outputs": [
    {
     "name": "stdout",
     "output_type": "stream",
     "text": [
      "3 Seed Loser R32 C.I.: 7.58-8.98\n"
     ]
    }
   ],
   "source": [
    "# Statistics\n",
    "n = len(df.loc[(df['Round']<2)&(df['Seed']==3),'R32'])\n",
    "sd = df.loc[(df['Round']<2)&(df['Seed']==3),'R32'].std()\n",
    "avg = df.loc[(df['Round']<2)&(df['Seed']==3),'R32'].mean()\n",
    "ci = 1.96\n",
    "\n",
    "# Confidence Interval\n",
    "lower, upper = confidence_interval(avg, sd, n, ci)\n",
    "print('3 Seed Loser R32 C.I.: '+lower+'-'+upper)"
   ]
  },
  {
   "cell_type": "code",
   "execution_count": 148,
   "metadata": {},
   "outputs": [
    {
     "name": "stdout",
     "output_type": "stream",
     "text": [
      "14 Seed Winner R32 C.I.: 1.02-2.42\n"
     ]
    }
   ],
   "source": [
    "# Statistics\n",
    "n = len(df.loc[(df['Round']>=2)&(df['Seed']==14),'R32'])\n",
    "sd = df.loc[(df['Round']>=2)&(df['Seed']==14),'R32'].std()\n",
    "avg = df.loc[(df['Round']>=2)&(df['Seed']==14),'R32'].mean()\n",
    "ci = 1.96\n",
    "\n",
    "# Confidence Interval\n",
    "lower, upper = confidence_interval(avg, sd, n, ci)\n",
    "print('14 Seed Winner R32 C.I.: '+lower+'-'+upper)"
   ]
  },
  {
   "cell_type": "code",
   "execution_count": 149,
   "metadata": {},
   "outputs": [
    {
     "name": "stdout",
     "output_type": "stream",
     "text": [
      "14 Seed Loser R32 C.I.: 0.73-1.24\n"
     ]
    }
   ],
   "source": [
    "# Statistics\n",
    "n = len(df.loc[(df['Round']<2)&(df['Seed']==14),'R32'])\n",
    "sd = df.loc[(df['Round']<2)&(df['Seed']==14),'R32'].std()\n",
    "avg = df.loc[(df['Round']<2)&(df['Seed']==14),'R32'].mean()\n",
    "ci = 1.96\n",
    "\n",
    "# Confidence Interval\n",
    "lower, upper = confidence_interval(avg, sd, n, ci)\n",
    "print('14 Seed Loser R32 C.I.: '+lower+'-'+upper)"
   ]
  },
  {
   "cell_type": "markdown",
   "metadata": {},
   "source": [
    "### 5 v 12"
   ]
  },
  {
   "cell_type": "code",
   "execution_count": 156,
   "metadata": {},
   "outputs": [
    {
     "name": "stdout",
     "output_type": "stream",
     "text": [
      "12 Seed Winner R32 C.I.: 1.98-3.57\n"
     ]
    }
   ],
   "source": [
    "# Statistics\n",
    "n = len(df.loc[(df['Round']>=2)&(df['Seed']==12),'R32'])\n",
    "sd = df.loc[(df['Round']>=2)&(df['Seed']==12),'R32'].std()\n",
    "avg = df.loc[(df['Round']>=2)&(df['Seed']==12),'R32'].mean()\n",
    "ci = 1.96\n",
    "\n",
    "# Confidence Interval\n",
    "lower, upper = confidence_interval(avg, sd, n, ci)\n",
    "print('12 Seed Winner R32 C.I.: '+lower+'-'+upper)"
   ]
  },
  {
   "cell_type": "code",
   "execution_count": 157,
   "metadata": {},
   "outputs": [
    {
     "name": "stdout",
     "output_type": "stream",
     "text": [
      "12 Seed Loser R32 C.I.: 1.62-2.64\n"
     ]
    }
   ],
   "source": [
    "# Statistics\n",
    "n = len(df.loc[(df['Round']<2)&(df['Seed']==12),'R32'])\n",
    "sd = df.loc[(df['Round']<2)&(df['Seed']==12),'R32'].std()\n",
    "avg = df.loc[(df['Round']<2)&(df['Seed']==12),'R32'].mean()\n",
    "ci = 1.96\n",
    "\n",
    "# Confidence Interval\n",
    "lower, upper = confidence_interval(avg, sd, n, ci)\n",
    "print('12 Seed Loser R32 C.I.: '+lower+'-'+upper)"
   ]
  },
  {
   "cell_type": "markdown",
   "metadata": {},
   "source": [
    "### 6 v 11"
   ]
  },
  {
   "cell_type": "code",
   "execution_count": 160,
   "metadata": {},
   "outputs": [
    {
     "name": "stdout",
     "output_type": "stream",
     "text": [
      "11 Seed Winner R32 C.I.: 3.04-4.77\n"
     ]
    }
   ],
   "source": [
    "# Statistics\n",
    "n = len(df.loc[(df['Round']>=2)&(df['Seed']==11),'R32'])\n",
    "sd = df.loc[(df['Round']>=2)&(df['Seed']==11),'R32'].std()\n",
    "avg = df.loc[(df['Round']>=2)&(df['Seed']==11),'R32'].mean()\n",
    "ci = 1.96\n",
    "\n",
    "# Confidence Interval\n",
    "lower, upper = confidence_interval(avg, sd, n, ci)\n",
    "print('11 Seed Winner R32 C.I.: '+lower+'-'+upper)"
   ]
  },
  {
   "cell_type": "code",
   "execution_count": 161,
   "metadata": {},
   "outputs": [
    {
     "name": "stdout",
     "output_type": "stream",
     "text": [
      "11 Seed Loser R32 C.I.: 2.42-4.27\n"
     ]
    }
   ],
   "source": [
    "# Statistics\n",
    "n = len(df.loc[(df['Round']<2)&(df['Seed']==11),'R32'])\n",
    "sd = df.loc[(df['Round']<2)&(df['Seed']==11),'R32'].std()\n",
    "avg = df.loc[(df['Round']<2)&(df['Seed']==11),'R32'].mean()\n",
    "ci = 1.96\n",
    "\n",
    "# Confidence Interval\n",
    "lower, upper = confidence_interval(avg, sd, n, ci)\n",
    "print('11 Seed Loser R32 C.I.: '+lower+'-'+upper)"
   ]
  },
  {
   "cell_type": "markdown",
   "metadata": {},
   "source": [
    "### 7 v 10"
   ]
  },
  {
   "cell_type": "code",
   "execution_count": 164,
   "metadata": {},
   "outputs": [
    {
     "name": "stdout",
     "output_type": "stream",
     "text": [
      "10 Seed Winner R32 C.I.: 4.08-6.26\n"
     ]
    }
   ],
   "source": [
    "# Statistics\n",
    "n = len(df.loc[(df['Round']>=2)&(df['Seed']==10),'R32'])\n",
    "sd = df.loc[(df['Round']>=2)&(df['Seed']==10),'R32'].std()\n",
    "avg = df.loc[(df['Round']>=2)&(df['Seed']==10),'R32'].mean()\n",
    "ci = 1.96\n",
    "\n",
    "# Confidence Interval\n",
    "lower, upper = confidence_interval(avg, sd, n, ci)\n",
    "print('10 Seed Winner R32 C.I.: '+lower+'-'+upper)"
   ]
  },
  {
   "cell_type": "code",
   "execution_count": 165,
   "metadata": {},
   "outputs": [
    {
     "name": "stdout",
     "output_type": "stream",
     "text": [
      "10 Seed Loser R32 C.I.: 3.58-5.27\n"
     ]
    }
   ],
   "source": [
    "# Statistics\n",
    "n = len(df.loc[(df['Round']<2)&(df['Seed']==10),'R32'])\n",
    "sd = df.loc[(df['Round']<2)&(df['Seed']==10),'R32'].std()\n",
    "avg = df.loc[(df['Round']<2)&(df['Seed']==10),'R32'].mean()\n",
    "ci = 1.96\n",
    "\n",
    "# Confidence Interval\n",
    "lower, upper = confidence_interval(avg, sd, n, ci)\n",
    "print('10 Seed Loser R32 C.I.: '+lower+'-'+upper)"
   ]
  }
 ],
 "metadata": {
  "kernelspec": {
   "display_name": ".venv",
   "language": "python",
   "name": "python3"
  },
  "language_info": {
   "codemirror_mode": {
    "name": "ipython",
    "version": 3
   },
   "file_extension": ".py",
   "mimetype": "text/x-python",
   "name": "python",
   "nbconvert_exporter": "python",
   "pygments_lexer": "ipython3",
   "version": "3.11.8"
  }
 },
 "nbformat": 4,
 "nbformat_minor": 2
}
